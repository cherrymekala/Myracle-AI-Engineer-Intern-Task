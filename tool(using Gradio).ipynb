{
 "cells": [
  {
   "cell_type": "code",
   "execution_count": 1,
   "metadata": {},
   "outputs": [
    {
     "name": "stdout",
     "output_type": "stream",
     "text": [
      "Defaulting to user installation because normal site-packages is not writeable\n",
      "Requirement already satisfied: haystack-ai in /home/cherry/.local/lib/python3.10/site-packages (2.4.0)\n",
      "Requirement already satisfied: networkx in /home/cherry/.local/lib/python3.10/site-packages (from haystack-ai) (3.1)\n",
      "Requirement already satisfied: typing-extensions>=4.7 in /home/cherry/.local/lib/python3.10/site-packages (from haystack-ai) (4.11.0)\n",
      "Requirement already satisfied: openai>=1.1.0 in /home/cherry/.local/lib/python3.10/site-packages (from haystack-ai) (1.40.2)\n",
      "Requirement already satisfied: more-itertools in /usr/lib/python3/dist-packages (from haystack-ai) (8.10.0)\n",
      "Requirement already satisfied: requests in /home/cherry/.local/lib/python3.10/site-packages (from haystack-ai) (2.31.0)\n",
      "Requirement already satisfied: posthog in /home/cherry/.local/lib/python3.10/site-packages (from haystack-ai) (3.5.0)\n",
      "Requirement already satisfied: pyyaml in /home/cherry/.local/lib/python3.10/site-packages (from haystack-ai) (6.0.1)\n",
      "Requirement already satisfied: tenacity!=8.4.0 in /home/cherry/.local/lib/python3.10/site-packages (from haystack-ai) (8.2.3)\n",
      "Requirement already satisfied: jinja2 in /home/cherry/.local/lib/python3.10/site-packages (from haystack-ai) (3.1.2)\n",
      "Requirement already satisfied: haystack-experimental in /home/cherry/.local/lib/python3.10/site-packages (from haystack-ai) (0.1.1)\n",
      "Requirement already satisfied: numpy<2 in /home/cherry/.local/lib/python3.10/site-packages (from haystack-ai) (1.26.4)\n",
      "Requirement already satisfied: python-dateutil in /home/cherry/.local/lib/python3.10/site-packages (from haystack-ai) (2.9.0.post0)\n",
      "Requirement already satisfied: lazy-imports in /home/cherry/.local/lib/python3.10/site-packages (from haystack-ai) (0.3.1)\n",
      "Requirement already satisfied: tqdm in /home/cherry/.local/lib/python3.10/site-packages (from haystack-ai) (4.66.1)\n",
      "Requirement already satisfied: pandas in /home/cherry/.local/lib/python3.10/site-packages (from haystack-ai) (2.2.0)\n",
      "Requirement already satisfied: distro<2,>=1.7.0 in /usr/lib/python3/dist-packages (from openai>=1.1.0->haystack-ai) (1.7.0)\n",
      "Requirement already satisfied: anyio<5,>=3.5.0 in /home/cherry/.local/lib/python3.10/site-packages (from openai>=1.1.0->haystack-ai) (3.7.0)\n",
      "Requirement already satisfied: jiter<1,>=0.4.0 in /home/cherry/.local/lib/python3.10/site-packages (from openai>=1.1.0->haystack-ai) (0.5.0)\n",
      "Requirement already satisfied: sniffio in /home/cherry/.local/lib/python3.10/site-packages (from openai>=1.1.0->haystack-ai) (1.3.0)\n",
      "Requirement already satisfied: httpx<1,>=0.23.0 in /home/cherry/.local/lib/python3.10/site-packages (from openai>=1.1.0->haystack-ai) (0.24.1)\n",
      "Requirement already satisfied: pydantic<3,>=1.9.0 in /home/cherry/.local/lib/python3.10/site-packages (from openai>=1.1.0->haystack-ai) (1.10.18)\n",
      "Requirement already satisfied: MarkupSafe>=2.0 in /home/cherry/.local/lib/python3.10/site-packages (from jinja2->haystack-ai) (2.1.5)\n",
      "Requirement already satisfied: pytz>=2020.1 in /home/cherry/.local/lib/python3.10/site-packages (from pandas->haystack-ai) (2023.3.post1)\n",
      "Requirement already satisfied: tzdata>=2022.7 in /home/cherry/.local/lib/python3.10/site-packages (from pandas->haystack-ai) (2024.1)\n",
      "Requirement already satisfied: six>=1.5 in /home/cherry/.local/lib/python3.10/site-packages (from python-dateutil->haystack-ai) (1.16.0)\n",
      "Requirement already satisfied: backoff>=1.10.0 in /home/cherry/.local/lib/python3.10/site-packages (from posthog->haystack-ai) (2.2.1)\n",
      "Requirement already satisfied: monotonic>=1.5 in /usr/lib/python3/dist-packages (from posthog->haystack-ai) (1.6)\n",
      "Requirement already satisfied: idna<4,>=2.5 in /home/cherry/.local/lib/python3.10/site-packages (from requests->haystack-ai) (3.6)\n",
      "Requirement already satisfied: charset-normalizer<4,>=2 in /home/cherry/.local/lib/python3.10/site-packages (from requests->haystack-ai) (3.3.2)\n",
      "Requirement already satisfied: certifi>=2017.4.17 in /home/cherry/.local/lib/python3.10/site-packages (from requests->haystack-ai) (2024.2.2)\n",
      "Requirement already satisfied: urllib3<3,>=1.21.1 in /home/cherry/.local/lib/python3.10/site-packages (from requests->haystack-ai) (2.2.1)\n",
      "Requirement already satisfied: exceptiongroup in /home/cherry/.local/lib/python3.10/site-packages (from anyio<5,>=3.5.0->openai>=1.1.0->haystack-ai) (1.2.2)\n",
      "Requirement already satisfied: httpcore<0.18.0,>=0.15.0 in /home/cherry/.local/lib/python3.10/site-packages (from httpx<1,>=0.23.0->openai>=1.1.0->haystack-ai) (0.17.2)\n",
      "Requirement already satisfied: h11<0.15,>=0.13 in /home/cherry/.local/lib/python3.10/site-packages (from httpcore<0.18.0,>=0.15.0->httpx<1,>=0.23.0->openai>=1.1.0->haystack-ai) (0.14.0)\n",
      "Note: you may need to restart the kernel to use updated packages.\n"
     ]
    }
   ],
   "source": [
    "pip install haystack-ai "
   ]
  },
  {
   "cell_type": "code",
   "execution_count": 2,
   "metadata": {},
   "outputs": [
    {
     "name": "stdout",
     "output_type": "stream",
     "text": [
      "Defaulting to user installation because normal site-packages is not writeable\n",
      "Requirement already satisfied: transformers in /home/cherry/.local/lib/python3.10/site-packages (4.44.2)\n",
      "Requirement already satisfied: torch in /home/cherry/.local/lib/python3.10/site-packages (2.0.1+cpu)\n",
      "Requirement already satisfied: pyyaml>=5.1 in /home/cherry/.local/lib/python3.10/site-packages (from transformers) (6.0.1)\n",
      "Requirement already satisfied: packaging>=20.0 in /home/cherry/.local/lib/python3.10/site-packages (from transformers) (23.2)\n",
      "Requirement already satisfied: tokenizers<0.20,>=0.19 in /home/cherry/.local/lib/python3.10/site-packages (from transformers) (0.19.1)\n",
      "Requirement already satisfied: requests in /home/cherry/.local/lib/python3.10/site-packages (from transformers) (2.31.0)\n",
      "Requirement already satisfied: tqdm>=4.27 in /home/cherry/.local/lib/python3.10/site-packages (from transformers) (4.66.1)\n",
      "Requirement already satisfied: huggingface-hub<1.0,>=0.23.2 in /home/cherry/.local/lib/python3.10/site-packages (from transformers) (0.23.2)\n",
      "Requirement already satisfied: filelock in /home/cherry/.local/lib/python3.10/site-packages (from transformers) (3.13.3)\n",
      "Requirement already satisfied: numpy>=1.17 in /home/cherry/.local/lib/python3.10/site-packages (from transformers) (1.26.4)\n",
      "Requirement already satisfied: regex!=2019.12.17 in /home/cherry/.local/lib/python3.10/site-packages (from transformers) (2023.8.8)\n",
      "Requirement already satisfied: safetensors>=0.4.1 in /home/cherry/.local/lib/python3.10/site-packages (from transformers) (0.4.3)\n",
      "Requirement already satisfied: sympy in /home/cherry/.local/lib/python3.10/site-packages (from torch) (1.12)\n",
      "Requirement already satisfied: jinja2 in /home/cherry/.local/lib/python3.10/site-packages (from torch) (3.1.2)\n",
      "Requirement already satisfied: networkx in /home/cherry/.local/lib/python3.10/site-packages (from torch) (3.1)\n",
      "Requirement already satisfied: typing-extensions in /home/cherry/.local/lib/python3.10/site-packages (from torch) (4.11.0)\n",
      "Requirement already satisfied: fsspec>=2023.5.0 in /home/cherry/.local/lib/python3.10/site-packages (from huggingface-hub<1.0,>=0.23.2->transformers) (2023.6.0)\n",
      "Requirement already satisfied: MarkupSafe>=2.0 in /home/cherry/.local/lib/python3.10/site-packages (from jinja2->torch) (2.1.5)\n",
      "Requirement already satisfied: charset-normalizer<4,>=2 in /home/cherry/.local/lib/python3.10/site-packages (from requests->transformers) (3.3.2)\n",
      "Requirement already satisfied: idna<4,>=2.5 in /home/cherry/.local/lib/python3.10/site-packages (from requests->transformers) (3.6)\n",
      "Requirement already satisfied: urllib3<3,>=1.21.1 in /home/cherry/.local/lib/python3.10/site-packages (from requests->transformers) (2.2.1)\n",
      "Requirement already satisfied: certifi>=2017.4.17 in /home/cherry/.local/lib/python3.10/site-packages (from requests->transformers) (2024.2.2)\n",
      "Requirement already satisfied: mpmath>=0.19 in /home/cherry/.local/lib/python3.10/site-packages (from sympy->torch) (1.3.0)\n",
      "Note: you may need to restart the kernel to use updated packages.\n"
     ]
    }
   ],
   "source": [
    "pip install transformers torch\n"
   ]
  },
  {
   "cell_type": "markdown",
   "metadata": {},
   "source": [
    "Import the necessary libraries"
   ]
  },
  {
   "cell_type": "code",
   "execution_count": 3,
   "metadata": {},
   "outputs": [],
   "source": [
    "from dotenv import load_dotenv\n",
    "import re\n",
    "from pprint import pprint\n",
    "from ast import literal_eval\n",
    "from typing import List\n",
    "import json\n",
    "import pandas as pd"
   ]
  },
  {
   "cell_type": "code",
   "execution_count": 4,
   "metadata": {},
   "outputs": [
    {
     "name": "stderr",
     "output_type": "stream",
     "text": [
      "2024-09-01 12:24:51.622485: I tensorflow/core/util/port.cc:113] oneDNN custom operations are on. You may see slightly different numerical results due to floating-point round-off errors from different computation orders. To turn them off, set the environment variable `TF_ENABLE_ONEDNN_OPTS=0`.\n",
      "2024-09-01 12:24:52.596324: I external/local_tsl/tsl/cuda/cudart_stub.cc:31] Could not find cuda drivers on your machine, GPU will not be used.\n",
      "2024-09-01 12:24:55.017736: E external/local_xla/xla/stream_executor/cuda/cuda_dnn.cc:9261] Unable to register cuDNN factory: Attempting to register factory for plugin cuDNN when one has already been registered\n",
      "2024-09-01 12:24:55.017922: E external/local_xla/xla/stream_executor/cuda/cuda_fft.cc:607] Unable to register cuFFT factory: Attempting to register factory for plugin cuFFT when one has already been registered\n",
      "2024-09-01 12:24:55.874421: E external/local_xla/xla/stream_executor/cuda/cuda_blas.cc:1515] Unable to register cuBLAS factory: Attempting to register factory for plugin cuBLAS when one has already been registered\n",
      "2024-09-01 12:24:56.899203: I external/local_tsl/tsl/cuda/cudart_stub.cc:31] Could not find cuda drivers on your machine, GPU will not be used.\n",
      "2024-09-01 12:24:56.902717: I tensorflow/core/platform/cpu_feature_guard.cc:182] This TensorFlow binary is optimized to use available CPU instructions in performance-critical operations.\n",
      "To enable the following instructions: AVX2 AVX512F AVX512_VNNI FMA, in other operations, rebuild TensorFlow with the appropriate compiler flags.\n",
      "2024-09-01 12:25:03.151110: W tensorflow/compiler/tf2tensorrt/utils/py_utils.cc:38] TF-TRT Warning: Could not find TensorRT\n"
     ]
    }
   ],
   "source": [
    "from haystack import Pipeline, Document\n",
    "from haystack.document_stores.in_memory import InMemoryDocumentStore\n",
    "from haystack.components.writers import DocumentWriter\n",
    "from haystack.components.embedders import SentenceTransformersDocumentEmbedder\n",
    "from haystack.components.generators import OpenAIGenerator\n",
    "from haystack.utils import Secret\n",
    "from haystack.components.generators.chat import OpenAIChatGenerator\n",
    "from haystack.components.builders import PromptBuilder\n",
    "from haystack.components.embedders import SentenceTransformersTextEmbedder\n",
    "from haystack.components.retrievers.in_memory import InMemoryEmbeddingRetriever\n",
    "from haystack.dataclasses import ChatMessage"
   ]
  },
  {
   "cell_type": "code",
   "execution_count": 5,
   "metadata": {},
   "outputs": [
    {
     "data": {
      "text/plain": [
       "True"
      ]
     },
     "execution_count": 5,
     "metadata": {},
     "output_type": "execute_result"
    }
   ],
   "source": [
    "load_dotenv()"
   ]
  },
  {
   "cell_type": "code",
   "execution_count": 6,
   "metadata": {},
   "outputs": [
    {
     "name": "stderr",
     "output_type": "stream",
     "text": [
      "/usr/lib/python3.10/pty.py:89: RuntimeWarning: os.fork() was called. os.fork() is incompatible with multithreaded code, and JAX is multithreaded, so this will likely lead to a deadlock.\n",
      "  pid, fd = os.forkpty()\n"
     ]
    },
    {
     "name": "stdout",
     "output_type": "stream",
     "text": [
      "Defaulting to user installation because normal site-packages is not writeable\n",
      "Requirement already satisfied: transformers in /home/cherry/.local/lib/python3.10/site-packages (4.44.2)\n",
      "Requirement already satisfied: tqdm>=4.27 in /home/cherry/.local/lib/python3.10/site-packages (from transformers) (4.66.1)\n",
      "Requirement already satisfied: tokenizers<0.20,>=0.19 in /home/cherry/.local/lib/python3.10/site-packages (from transformers) (0.19.1)\n",
      "Requirement already satisfied: packaging>=20.0 in /home/cherry/.local/lib/python3.10/site-packages (from transformers) (23.2)\n",
      "Requirement already satisfied: numpy>=1.17 in /home/cherry/.local/lib/python3.10/site-packages (from transformers) (1.26.4)\n",
      "Requirement already satisfied: pyyaml>=5.1 in /home/cherry/.local/lib/python3.10/site-packages (from transformers) (6.0.1)\n",
      "Requirement already satisfied: requests in /home/cherry/.local/lib/python3.10/site-packages (from transformers) (2.31.0)\n",
      "Requirement already satisfied: safetensors>=0.4.1 in /home/cherry/.local/lib/python3.10/site-packages (from transformers) (0.4.3)\n",
      "Requirement already satisfied: huggingface-hub<1.0,>=0.23.2 in /home/cherry/.local/lib/python3.10/site-packages (from transformers) (0.23.2)\n",
      "Requirement already satisfied: filelock in /home/cherry/.local/lib/python3.10/site-packages (from transformers) (3.13.3)\n",
      "Requirement already satisfied: regex!=2019.12.17 in /home/cherry/.local/lib/python3.10/site-packages (from transformers) (2023.8.8)\n",
      "Requirement already satisfied: typing-extensions>=3.7.4.3 in /home/cherry/.local/lib/python3.10/site-packages (from huggingface-hub<1.0,>=0.23.2->transformers) (4.11.0)\n",
      "Requirement already satisfied: fsspec>=2023.5.0 in /home/cherry/.local/lib/python3.10/site-packages (from huggingface-hub<1.0,>=0.23.2->transformers) (2023.6.0)\n",
      "Requirement already satisfied: idna<4,>=2.5 in /home/cherry/.local/lib/python3.10/site-packages (from requests->transformers) (3.6)\n",
      "Requirement already satisfied: charset-normalizer<4,>=2 in /home/cherry/.local/lib/python3.10/site-packages (from requests->transformers) (3.3.2)\n",
      "Requirement already satisfied: certifi>=2017.4.17 in /home/cherry/.local/lib/python3.10/site-packages (from requests->transformers) (2024.2.2)\n",
      "Requirement already satisfied: urllib3<3,>=1.21.1 in /home/cherry/.local/lib/python3.10/site-packages (from requests->transformers) (2.2.1)\n",
      "Note: you may need to restart the kernel to use updated packages.\n"
     ]
    }
   ],
   "source": [
    "pip install --upgrade transformers"
   ]
  },
  {
   "cell_type": "code",
   "execution_count": 9,
   "metadata": {},
   "outputs": [
    {
     "name": "stderr",
     "output_type": "stream",
     "text": [
      "/usr/lib/python3.10/pty.py:89: RuntimeWarning: os.fork() was called. os.fork() is incompatible with multithreaded code, and JAX is multithreaded, so this will likely lead to a deadlock.\n",
      "  pid, fd = os.forkpty()\n"
     ]
    },
    {
     "name": "stdout",
     "output_type": "stream",
     "text": [
      "Defaulting to user installation because normal site-packages is not writeable\n",
      "Collecting accelerate\n",
      "  Using cached accelerate-0.33.0-py3-none-any.whl (315 kB)\n",
      "Requirement already satisfied: huggingface-hub>=0.21.0 in /home/cherry/.local/lib/python3.10/site-packages (from accelerate) (0.23.2)\n",
      "Requirement already satisfied: pyyaml in /home/cherry/.local/lib/python3.10/site-packages (from accelerate) (6.0.1)\n",
      "Requirement already satisfied: numpy<2.0.0,>=1.17 in /home/cherry/.local/lib/python3.10/site-packages (from accelerate) (1.26.4)\n",
      "Requirement already satisfied: torch>=1.10.0 in /home/cherry/.local/lib/python3.10/site-packages (from accelerate) (2.0.1+cpu)\n",
      "Requirement already satisfied: safetensors>=0.3.1 in /home/cherry/.local/lib/python3.10/site-packages (from accelerate) (0.4.3)\n",
      "Requirement already satisfied: psutil in /usr/lib/python3/dist-packages (from accelerate) (5.9.0)\n",
      "Requirement already satisfied: packaging>=20.0 in /home/cherry/.local/lib/python3.10/site-packages (from accelerate) (23.2)\n",
      "Requirement already satisfied: filelock in /home/cherry/.local/lib/python3.10/site-packages (from huggingface-hub>=0.21.0->accelerate) (3.13.3)\n",
      "Requirement already satisfied: fsspec>=2023.5.0 in /home/cherry/.local/lib/python3.10/site-packages (from huggingface-hub>=0.21.0->accelerate) (2023.6.0)\n",
      "Requirement already satisfied: typing-extensions>=3.7.4.3 in /home/cherry/.local/lib/python3.10/site-packages (from huggingface-hub>=0.21.0->accelerate) (4.11.0)\n",
      "Requirement already satisfied: requests in /home/cherry/.local/lib/python3.10/site-packages (from huggingface-hub>=0.21.0->accelerate) (2.31.0)\n",
      "Requirement already satisfied: tqdm>=4.42.1 in /home/cherry/.local/lib/python3.10/site-packages (from huggingface-hub>=0.21.0->accelerate) (4.66.1)\n",
      "Requirement already satisfied: networkx in /home/cherry/.local/lib/python3.10/site-packages (from torch>=1.10.0->accelerate) (3.1)\n",
      "Requirement already satisfied: jinja2 in /home/cherry/.local/lib/python3.10/site-packages (from torch>=1.10.0->accelerate) (3.1.2)\n",
      "Requirement already satisfied: sympy in /home/cherry/.local/lib/python3.10/site-packages (from torch>=1.10.0->accelerate) (1.12)\n",
      "Requirement already satisfied: MarkupSafe>=2.0 in /home/cherry/.local/lib/python3.10/site-packages (from jinja2->torch>=1.10.0->accelerate) (2.1.5)\n",
      "Requirement already satisfied: urllib3<3,>=1.21.1 in /home/cherry/.local/lib/python3.10/site-packages (from requests->huggingface-hub>=0.21.0->accelerate) (2.2.1)\n",
      "Requirement already satisfied: certifi>=2017.4.17 in /home/cherry/.local/lib/python3.10/site-packages (from requests->huggingface-hub>=0.21.0->accelerate) (2024.2.2)\n",
      "Requirement already satisfied: idna<4,>=2.5 in /home/cherry/.local/lib/python3.10/site-packages (from requests->huggingface-hub>=0.21.0->accelerate) (3.6)\n",
      "Requirement already satisfied: charset-normalizer<4,>=2 in /home/cherry/.local/lib/python3.10/site-packages (from requests->huggingface-hub>=0.21.0->accelerate) (3.3.2)\n",
      "Requirement already satisfied: mpmath>=0.19 in /home/cherry/.local/lib/python3.10/site-packages (from sympy->torch>=1.10.0->accelerate) (1.3.0)\n",
      "Installing collected packages: accelerate\n",
      "Successfully installed accelerate-0.33.0\n",
      "Note: you may need to restart the kernel to use updated packages.\n"
     ]
    }
   ],
   "source": [
    "pip install accelerate"
   ]
  },
  {
   "cell_type": "code",
   "execution_count": 1,
   "metadata": {},
   "outputs": [
    {
     "name": "stderr",
     "output_type": "stream",
     "text": [
      "2024-09-01 13:14:30.144590: I tensorflow/core/util/port.cc:113] oneDNN custom operations are on. You may see slightly different numerical results due to floating-point round-off errors from different computation orders. To turn them off, set the environment variable `TF_ENABLE_ONEDNN_OPTS=0`.\n",
      "2024-09-01 13:14:30.214251: I external/local_tsl/tsl/cuda/cudart_stub.cc:31] Could not find cuda drivers on your machine, GPU will not be used.\n",
      "2024-09-01 13:14:30.262205: E external/local_xla/xla/stream_executor/cuda/cuda_dnn.cc:9261] Unable to register cuDNN factory: Attempting to register factory for plugin cuDNN when one has already been registered\n",
      "2024-09-01 13:14:30.262241: E external/local_xla/xla/stream_executor/cuda/cuda_fft.cc:607] Unable to register cuFFT factory: Attempting to register factory for plugin cuFFT when one has already been registered\n",
      "2024-09-01 13:14:30.263088: E external/local_xla/xla/stream_executor/cuda/cuda_blas.cc:1515] Unable to register cuBLAS factory: Attempting to register factory for plugin cuBLAS when one has already been registered\n",
      "2024-09-01 13:14:30.269113: I external/local_tsl/tsl/cuda/cudart_stub.cc:31] Could not find cuda drivers on your machine, GPU will not be used.\n",
      "2024-09-01 13:14:30.270178: I tensorflow/core/platform/cpu_feature_guard.cc:182] This TensorFlow binary is optimized to use available CPU instructions in performance-critical operations.\n",
      "To enable the following instructions: AVX2 AVX512F AVX512_VNNI FMA, in other operations, rebuild TensorFlow with the appropriate compiler flags.\n",
      "2024-09-01 13:14:35.787664: W tensorflow/compiler/tf2tensorrt/utils/py_utils.cc:38] TF-TRT Warning: Could not find TensorRT\n",
      "/home/cherry/.local/lib/python3.10/site-packages/transformers/tokenization_utils_base.py:1601: FutureWarning: `clean_up_tokenization_spaces` was not set. It will be set to `True` by default. This behavior will be depracted in transformers v4.45, and will be then set to `False` by default. For more details check this issue: https://github.com/huggingface/transformers/issues/31884\n",
      "  warnings.warn(\n",
      "/home/cherry/.local/lib/python3.10/site-packages/torch/_utils.py:776: UserWarning: TypedStorage is deprecated. It will be removed in the future and UntypedStorage will be the only storage class. This should only matter to you if you are using storages directly.  To access UntypedStorage directly, use tensor.untyped_storage() instead of tensor.storage()\n",
      "  return self.fget.__get__(instance, owner)()\n"
     ]
    },
    {
     "name": "stdout",
     "output_type": "stream",
     "text": [
      "Running on local URL:  http://127.0.0.1:7860\n",
      "\n",
      "To create a public link, set `share=True` in `launch()`.\n"
     ]
    },
    {
     "data": {
      "text/html": [
       "<div><iframe src=\"http://127.0.0.1:7860/\" width=\"100%\" height=\"500\" allow=\"autoplay; camera; microphone; clipboard-read; clipboard-write;\" frameborder=\"0\" allowfullscreen></iframe></div>"
      ],
      "text/plain": [
       "<IPython.core.display.HTML object>"
      ]
     },
     "metadata": {},
     "output_type": "display_data"
    },
    {
     "data": {
      "text/plain": []
     },
     "execution_count": 1,
     "metadata": {},
     "output_type": "execute_result"
    }
   ],
   "source": [
    "import gradio as gr\n",
    "from PIL import Image\n",
    "import torch\n",
    "from transformers import CLIPProcessor, CLIPModel\n",
    "from haystack.components.generators import OpenAIGenerator\n",
    "from haystack.utils import Secret\n",
    "\n",
    "# Loading the CLIP model and processor\n",
    "processor = CLIPProcessor.from_pretrained(\"openai/clip-vit-base-patch32\")\n",
    "clip_model = CLIPModel.from_pretrained(\"openai/clip-vit-base-patch32\")\n",
    "\n",
    "# Defining the feature descriptions\n",
    "feature_descriptions = [\n",
    "    \"Source, Destination, and Date Selection\",\n",
    "    \"Bus Selection\",\n",
    "    \"Seat Selection\",\n",
    "    \"Pick-up and Drop-off Point Selection\"\n",
    "]\n",
    "\n",
    "# Initializing the text generator\n",
    "generator = OpenAIGenerator(\n",
    "    api_key=Secret.from_env_var(\"GROQ_API_KEY\"),\n",
    "    api_base_url=\"https://api.groq.com/openai/v1\",\n",
    "    model=\"llama-3.1-70b-versatile\",\n",
    "    generation_kwargs={\"max_tokens\": 2048}\n",
    ")\n",
    "\n",
    "# Converting images to embeddings using CLIP\n",
    "def get_image_embedding(image_path):\n",
    "    image = Image.open(image_path).convert('RGB')\n",
    "    inputs = processor(images=image, return_tensors=\"pt\")\n",
    "    with torch.no_grad():\n",
    "        image_features = clip_model.get_image_features(**inputs)\n",
    "    return image_features\n",
    "\n",
    "# Generating the testing instructions based on the highest similarity feature\n",
    "def generate_testing_instructions(context, images):\n",
    "    results = []\n",
    "    for image_path in images:\n",
    "        img_features = get_image_embedding(image_path)\n",
    "        similarities = []\n",
    "        \n",
    "        for desc in feature_descriptions:\n",
    "            text_inputs = processor(text=desc, return_tensors=\"pt\")\n",
    "            text_features = clip_model.get_text_features(**text_inputs)\n",
    "            similarity = torch.nn.functional.cosine_similarity(img_features, text_features)\n",
    "            similarities.append((desc, similarity.item()))\n",
    "        \n",
    "        highest_similarity_desc = max(similarities, key=lambda x: x[1])[0]\n",
    "        prompt = f\"Generate detailed testing instructions for the following feature based on the provided screenshot: {highest_similarity_desc}. Include tests for visible functionalities and exclude unrelated features.\"\n",
    "\n",
    "        try:\n",
    "            result = generator.run(prompt=prompt)\n",
    "            if \"replies\" in result:\n",
    "                instruction = result[\"replies\"][0].strip()\n",
    "            else:\n",
    "                instruction = \"No result found\"\n",
    "        except Exception as e:\n",
    "            instruction = f\"Error generating instructions: {e}\"\n",
    "        \n",
    "        results.append(f\"Instructions for {image_path} (Feature: {highest_similarity_desc}):\\n{instruction}\\n---\\n\")\n",
    "    \n",
    "    return \"\\n\".join(results)\n",
    "\n",
    "# Setting up the Gradio interface\n",
    "with gr.Blocks() as demo:\n",
    "    with gr.Column():\n",
    "        gr.Markdown(\"## Generate Testing Instructions\")\n",
    "        context = gr.Textbox(label=\"Optional Context\", placeholder=\"Enter any context here...\", lines=2)\n",
    "        images = gr.Files(label=\"Upload Screenshots\", file_count=\"multiple\", type=\"filepath\")\n",
    "        submit_btn = gr.Button(\"Describe Testing Instructions\")\n",
    "        output = gr.Textbox(label=\"Generated Testing Instructions\", lines=10)\n",
    "\n",
    "    submit_btn.click(fn=generate_testing_instructions, inputs=[context, images], outputs=output)\n",
    "\n",
    "demo.launch()\n"
   ]
  },
  {
   "cell_type": "code",
   "execution_count": 10,
   "metadata": {},
   "outputs": [
    {
     "name": "stderr",
     "output_type": "stream",
     "text": [
      "/usr/lib/python3.10/pty.py:89: RuntimeWarning: os.fork() was called. os.fork() is incompatible with multithreaded code, and JAX is multithreaded, so this will likely lead to a deadlock.\n",
      "  pid, fd = os.forkpty()\n",
      "huggingface/tokenizers: The current process just got forked, after parallelism has already been used. Disabling parallelism to avoid deadlocks...\n",
      "To disable this warning, you can either:\n",
      "\t- Avoid using `tokenizers` before the fork if possible\n",
      "\t- Explicitly set the environment variable TOKENIZERS_PARALLELISM=(true | false)\n"
     ]
    },
    {
     "name": "stdout",
     "output_type": "stream",
     "text": [
      "Defaulting to user installation because normal site-packages is not writeable\n",
      "Requirement already satisfied: pydantic in /home/cherry/.local/lib/python3.10/site-packages (1.10.18)\n",
      "Collecting pydantic\n",
      "  Downloading pydantic-2.8.2-py3-none-any.whl (423 kB)\n",
      "\u001b[2K     \u001b[90m━━━━━━━━━━━━━━━━━━━━━━━━━━━━━━━━━━━━━\u001b[0m \u001b[32m423.9/423.9 KB\u001b[0m \u001b[31m377.3 kB/s\u001b[0m eta \u001b[36m0:00:00\u001b[0m00:01\u001b[0m00:01\u001b[0m\n",
      "\u001b[?25hRequirement already satisfied: typing-extensions>=4.6.1 in /home/cherry/.local/lib/python3.10/site-packages (from pydantic) (4.11.0)\n",
      "Requirement already satisfied: annotated-types>=0.4.0 in /home/cherry/.local/lib/python3.10/site-packages (from pydantic) (0.7.0)\n",
      "Collecting pydantic-core==2.20.1\n",
      "  Downloading pydantic_core-2.20.1-cp310-cp310-manylinux_2_17_x86_64.manylinux2014_x86_64.whl (2.1 MB)\n",
      "\u001b[2K     \u001b[90m━━━━━━━━━━━━━━━━━━━━━━━━━━━━━━━━━━━━━━━━\u001b[0m \u001b[32m2.1/2.1 MB\u001b[0m \u001b[31m3.7 MB/s\u001b[0m eta \u001b[36m0:00:00\u001b[0m00:01\u001b[0m00:01\u001b[0m\n",
      "\u001b[?25hInstalling collected packages: pydantic-core, pydantic\n",
      "  Attempting uninstall: pydantic-core\n",
      "    Found existing installation: pydantic_core 2.3.0\n",
      "    Uninstalling pydantic_core-2.3.0:\n",
      "      Successfully uninstalled pydantic_core-2.3.0\n",
      "  Attempting uninstall: pydantic\n",
      "    Found existing installation: pydantic 1.10.18\n",
      "    Uninstalling pydantic-1.10.18:\n",
      "      Successfully uninstalled pydantic-1.10.18\n",
      "\u001b[31mERROR: pip's dependency resolver does not currently take into account all the packages that are installed. This behaviour is the source of the following dependency conflicts.\n",
      "ydata-profiling 4.8.3 requires matplotlib<3.9,>=3.2, but you have matplotlib 3.9.0 which is incompatible.\n",
      "farm-haystack 1.26.3 requires pydantic<2, but you have pydantic 2.8.2 which is incompatible.\n",
      "farm-haystack 1.26.3 requires transformers==4.39.3, but you have transformers 4.44.2 which is incompatible.\u001b[0m\u001b[31m\n",
      "\u001b[0mSuccessfully installed pydantic-2.8.2 pydantic-core-2.20.1\n",
      "Note: you may need to restart the kernel to use updated packages.\n"
     ]
    }
   ],
   "source": [
    "pip install --upgrade pydantic\n"
   ]
  },
  {
   "cell_type": "code",
   "execution_count": 3,
   "metadata": {},
   "outputs": [
    {
     "name": "stderr",
     "output_type": "stream",
     "text": [
      "/usr/lib/python3.10/pty.py:89: RuntimeWarning: os.fork() was called. os.fork() is incompatible with multithreaded code, and JAX is multithreaded, so this will likely lead to a deadlock.\n",
      "  pid, fd = os.forkpty()\n"
     ]
    },
    {
     "name": "stdout",
     "output_type": "stream",
     "text": [
      "Defaulting to user installation because normal site-packages is not writeable\n",
      "Requirement already satisfied: gradio in /home/cherry/.local/lib/python3.10/site-packages (3.50.0)\n",
      "Collecting gradio\n",
      "  Using cached gradio-4.42.0-py3-none-any.whl (16.8 MB)\n",
      "Requirement already satisfied: pyyaml<7.0,>=5.0 in /home/cherry/.local/lib/python3.10/site-packages (from gradio) (6.0.1)\n",
      "Requirement already satisfied: tomlkit==0.12.0 in /home/cherry/.local/lib/python3.10/site-packages (from gradio) (0.12.0)\n",
      "Requirement already satisfied: ffmpy in /home/cherry/.local/lib/python3.10/site-packages (from gradio) (0.4.0)\n",
      "Requirement already satisfied: httpx>=0.24.1 in /home/cherry/.local/lib/python3.10/site-packages (from gradio) (0.24.1)\n",
      "Requirement already satisfied: jinja2<4.0 in /home/cherry/.local/lib/python3.10/site-packages (from gradio) (3.1.2)\n",
      "Requirement already satisfied: python-multipart>=0.0.9 in /home/cherry/.local/lib/python3.10/site-packages (from gradio) (0.0.9)\n",
      "Requirement already satisfied: importlib-resources<7.0,>=1.3 in /home/cherry/.local/lib/python3.10/site-packages (from gradio) (6.4.0)\n",
      "Requirement already satisfied: ruff>=0.2.2 in /home/cherry/.local/lib/python3.10/site-packages (from gradio) (0.5.7)\n",
      "Requirement already satisfied: packaging in /home/cherry/.local/lib/python3.10/site-packages (from gradio) (23.2)\n",
      "Requirement already satisfied: matplotlib~=3.0 in /home/cherry/.local/lib/python3.10/site-packages (from gradio) (3.9.0)\n",
      "Requirement already satisfied: uvicorn>=0.14.0 in /home/cherry/.local/lib/python3.10/site-packages (from gradio) (0.30.1)\n",
      "Requirement already satisfied: markupsafe~=2.0 in /home/cherry/.local/lib/python3.10/site-packages (from gradio) (2.1.5)\n",
      "Requirement already satisfied: pydantic>=2.0 in /home/cherry/.local/lib/python3.10/site-packages (from gradio) (2.8.2)\n",
      "Collecting gradio-client==1.3.0\n",
      "  Using cached gradio_client-1.3.0-py3-none-any.whl (318 kB)\n",
      "Requirement already satisfied: typer<1.0,>=0.12 in /home/cherry/.local/lib/python3.10/site-packages (from gradio) (0.12.3)\n",
      "Requirement already satisfied: fastapi in /home/cherry/.local/lib/python3.10/site-packages (from gradio) (0.111.0)\n",
      "Requirement already satisfied: orjson~=3.0 in /home/cherry/.local/lib/python3.10/site-packages (from gradio) (3.10.3)\n",
      "Requirement already satisfied: anyio<5.0,>=3.0 in /home/cherry/.local/lib/python3.10/site-packages (from gradio) (3.7.0)\n",
      "Requirement already satisfied: semantic-version~=2.0 in /home/cherry/.local/lib/python3.10/site-packages (from gradio) (2.10.0)\n",
      "Requirement already satisfied: pillow<11.0,>=8.0 in /home/cherry/.local/lib/python3.10/site-packages (from gradio) (10.3.0)\n",
      "Requirement already satisfied: typing-extensions~=4.0 in /home/cherry/.local/lib/python3.10/site-packages (from gradio) (4.11.0)\n",
      "Requirement already satisfied: aiofiles<24.0,>=22.0 in /home/cherry/.local/lib/python3.10/site-packages (from gradio) (23.2.1)\n",
      "Requirement already satisfied: huggingface-hub>=0.19.3 in /home/cherry/.local/lib/python3.10/site-packages (from gradio) (0.23.2)\n",
      "Requirement already satisfied: pydub in /home/cherry/.local/lib/python3.10/site-packages (from gradio) (0.25.1)\n",
      "Requirement already satisfied: urllib3~=2.0 in /home/cherry/.local/lib/python3.10/site-packages (from gradio) (2.2.1)\n",
      "Requirement already satisfied: pandas<3.0,>=1.0 in /home/cherry/.local/lib/python3.10/site-packages (from gradio) (2.2.0)\n",
      "Requirement already satisfied: numpy<3.0,>=1.0 in /home/cherry/.local/lib/python3.10/site-packages (from gradio) (1.26.4)\n",
      "Requirement already satisfied: websockets<13.0,>=10.0 in /home/cherry/.local/lib/python3.10/site-packages (from gradio-client==1.3.0->gradio) (11.0.3)\n",
      "Requirement already satisfied: fsspec in /home/cherry/.local/lib/python3.10/site-packages (from gradio-client==1.3.0->gradio) (2023.6.0)\n",
      "Requirement already satisfied: exceptiongroup in /home/cherry/.local/lib/python3.10/site-packages (from anyio<5.0,>=3.0->gradio) (1.2.2)\n",
      "Requirement already satisfied: idna>=2.8 in /home/cherry/.local/lib/python3.10/site-packages (from anyio<5.0,>=3.0->gradio) (3.6)\n",
      "Requirement already satisfied: sniffio>=1.1 in /home/cherry/.local/lib/python3.10/site-packages (from anyio<5.0,>=3.0->gradio) (1.3.0)\n",
      "Requirement already satisfied: certifi in /home/cherry/.local/lib/python3.10/site-packages (from httpx>=0.24.1->gradio) (2024.2.2)\n",
      "Requirement already satisfied: httpcore<0.18.0,>=0.15.0 in /home/cherry/.local/lib/python3.10/site-packages (from httpx>=0.24.1->gradio) (0.17.2)\n",
      "Requirement already satisfied: filelock in /home/cherry/.local/lib/python3.10/site-packages (from huggingface-hub>=0.19.3->gradio) (3.13.3)\n",
      "Requirement already satisfied: requests in /home/cherry/.local/lib/python3.10/site-packages (from huggingface-hub>=0.19.3->gradio) (2.31.0)\n",
      "Requirement already satisfied: tqdm>=4.42.1 in /home/cherry/.local/lib/python3.10/site-packages (from huggingface-hub>=0.19.3->gradio) (4.66.1)\n",
      "Requirement already satisfied: cycler>=0.10 in /home/cherry/.local/lib/python3.10/site-packages (from matplotlib~=3.0->gradio) (0.12.1)\n",
      "Requirement already satisfied: contourpy>=1.0.1 in /home/cherry/.local/lib/python3.10/site-packages (from matplotlib~=3.0->gradio) (1.2.1)\n",
      "Requirement already satisfied: pyparsing>=2.3.1 in /home/cherry/.local/lib/python3.10/site-packages (from matplotlib~=3.0->gradio) (3.1.2)\n",
      "Requirement already satisfied: fonttools>=4.22.0 in /home/cherry/.local/lib/python3.10/site-packages (from matplotlib~=3.0->gradio) (4.53.0)\n",
      "Requirement already satisfied: python-dateutil>=2.7 in /home/cherry/.local/lib/python3.10/site-packages (from matplotlib~=3.0->gradio) (2.9.0.post0)\n",
      "Requirement already satisfied: kiwisolver>=1.3.1 in /home/cherry/.local/lib/python3.10/site-packages (from matplotlib~=3.0->gradio) (1.4.5)\n",
      "Requirement already satisfied: tzdata>=2022.7 in /home/cherry/.local/lib/python3.10/site-packages (from pandas<3.0,>=1.0->gradio) (2024.1)\n",
      "Requirement already satisfied: pytz>=2020.1 in /home/cherry/.local/lib/python3.10/site-packages (from pandas<3.0,>=1.0->gradio) (2023.3.post1)\n",
      "Requirement already satisfied: pydantic-core==2.20.1 in /home/cherry/.local/lib/python3.10/site-packages (from pydantic>=2.0->gradio) (2.20.1)\n",
      "Requirement already satisfied: annotated-types>=0.4.0 in /home/cherry/.local/lib/python3.10/site-packages (from pydantic>=2.0->gradio) (0.7.0)\n",
      "Requirement already satisfied: rich>=10.11.0 in /home/cherry/.local/lib/python3.10/site-packages (from typer<1.0,>=0.12->gradio) (13.7.0)\n",
      "Requirement already satisfied: shellingham>=1.3.0 in /home/cherry/.local/lib/python3.10/site-packages (from typer<1.0,>=0.12->gradio) (1.5.4)\n",
      "Requirement already satisfied: click>=8.0.0 in /home/cherry/.local/lib/python3.10/site-packages (from typer<1.0,>=0.12->gradio) (8.1.7)\n",
      "Requirement already satisfied: h11>=0.8 in /home/cherry/.local/lib/python3.10/site-packages (from uvicorn>=0.14.0->gradio) (0.14.0)\n",
      "Requirement already satisfied: ujson!=4.0.2,!=4.1.0,!=4.2.0,!=4.3.0,!=5.0.0,!=5.1.0,>=4.0.1 in /home/cherry/.local/lib/python3.10/site-packages (from fastapi->gradio) (5.10.0)\n",
      "Requirement already satisfied: email_validator>=2.0.0 in /home/cherry/.local/lib/python3.10/site-packages (from fastapi->gradio) (2.1.1)\n",
      "Requirement already satisfied: fastapi-cli>=0.0.2 in /home/cherry/.local/lib/python3.10/site-packages (from fastapi->gradio) (0.0.4)\n",
      "Requirement already satisfied: starlette<0.38.0,>=0.37.2 in /home/cherry/.local/lib/python3.10/site-packages (from fastapi->gradio) (0.37.2)\n",
      "Requirement already satisfied: dnspython>=2.0.0 in /home/cherry/.local/lib/python3.10/site-packages (from email_validator>=2.0.0->fastapi->gradio) (2.6.1)\n",
      "Requirement already satisfied: six>=1.5 in /home/cherry/.local/lib/python3.10/site-packages (from python-dateutil>=2.7->matplotlib~=3.0->gradio) (1.16.0)\n",
      "Requirement already satisfied: markdown-it-py>=2.2.0 in /home/cherry/.local/lib/python3.10/site-packages (from rich>=10.11.0->typer<1.0,>=0.12->gradio) (3.0.0)\n",
      "Requirement already satisfied: pygments<3.0.0,>=2.13.0 in /home/cherry/.local/lib/python3.10/site-packages (from rich>=10.11.0->typer<1.0,>=0.12->gradio) (2.17.2)\n",
      "Requirement already satisfied: httptools>=0.5.0 in /home/cherry/.local/lib/python3.10/site-packages (from uvicorn>=0.14.0->gradio) (0.6.1)\n",
      "Requirement already satisfied: watchfiles>=0.13 in /home/cherry/.local/lib/python3.10/site-packages (from uvicorn>=0.14.0->gradio) (0.22.0)\n",
      "Requirement already satisfied: uvloop!=0.15.0,!=0.15.1,>=0.14.0 in /home/cherry/.local/lib/python3.10/site-packages (from uvicorn>=0.14.0->gradio) (0.19.0)\n",
      "Requirement already satisfied: python-dotenv>=0.13 in /home/cherry/.local/lib/python3.10/site-packages (from uvicorn>=0.14.0->gradio) (1.0.1)\n",
      "Requirement already satisfied: charset-normalizer<4,>=2 in /home/cherry/.local/lib/python3.10/site-packages (from requests->huggingface-hub>=0.19.3->gradio) (3.3.2)\n",
      "Requirement already satisfied: mdurl~=0.1 in /home/cherry/.local/lib/python3.10/site-packages (from markdown-it-py>=2.2.0->rich>=10.11.0->typer<1.0,>=0.12->gradio) (0.1.2)\n",
      "Installing collected packages: gradio-client, gradio\n",
      "  Attempting uninstall: gradio-client\n",
      "    Found existing installation: gradio_client 0.6.1\n",
      "    Uninstalling gradio_client-0.6.1:\n",
      "      Successfully uninstalled gradio_client-0.6.1\n",
      "  Attempting uninstall: gradio\n",
      "    Found existing installation: gradio 3.50.0\n",
      "    Uninstalling gradio-3.50.0:\n",
      "      Successfully uninstalled gradio-3.50.0\n",
      "Successfully installed gradio-4.42.0 gradio-client-1.3.0\n",
      "Note: you may need to restart the kernel to use updated packages.\n"
     ]
    }
   ],
   "source": [
    "pip install --upgrade gradio\n"
   ]
  }
 ],
 "metadata": {
  "kernelspec": {
   "display_name": "Python 3",
   "language": "python",
   "name": "python3"
  },
  "language_info": {
   "codemirror_mode": {
    "name": "ipython",
    "version": 3
   },
   "file_extension": ".py",
   "mimetype": "text/x-python",
   "name": "python",
   "nbconvert_exporter": "python",
   "pygments_lexer": "ipython3",
   "version": "3.10.12"
  }
 },
 "nbformat": 4,
 "nbformat_minor": 2
}
